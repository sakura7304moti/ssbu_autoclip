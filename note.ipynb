{
 "cells": [
  {
   "attachments": {},
   "cell_type": "markdown",
   "metadata": {},
   "source": [
    "## <span style=\"color: #90EE90; \">動作イメージ"
   ]
  },
  {
   "attachments": {},
   "cell_type": "markdown",
   "metadata": {},
   "source": [
    "\n",
    "### 画像のリストを取得\n",
    "- 動画ファイルから画像のリストを作成する\n",
    "- 画像のリストを 1秒単位にする\n",
    "<hr />"
   ]
  },
  {
   "attachments": {},
   "cell_type": "markdown",
   "metadata": {},
   "source": [
    "### 画像のリストから残機のスタンプ生成\n",
    "    各画像に対して1P,2Pの残機を記録する\n",
    "\n",
    "|  画像  |  1P  |  2P  |  時間[s]  |\n",
    "| ---- | ---- | ---- | ---- |\n",
    "|  Array  |  int  |  int  |  int  |\n",
    "<hr />\n"
   ]
  },
  {
   "attachments": {},
   "cell_type": "markdown",
   "metadata": {},
   "source": [
    "### クリップの開始点と終了点を生成\n",
    "example -> 1P | 2  | 01:10 -> 01:20\n",
    "|  player  |  count  |  start[s]  |  end[s]  |\n",
    "| ---- | ---- | ---- | ---- |\n",
    "|  string  |  int  |  int |  int  |\n",
    "\n",
    "2P 01:19 -> 残機2 | 01:20 -> 残機1<br />\n",
    "となったらそこから一定時間さかのぼり,クリップ開始点を決定する.<br />\n",
    "致命演出はGame setの文字で判別する?\n",
    "<hr />"
   ]
  },
  {
   "attachments": {},
   "cell_type": "markdown",
   "metadata": {},
   "source": [
    "### OCRでキャラ名を取得\n",
    "earyocrで1Pと2Pの名前を取得しよう\n",
    "<hr />"
   ]
  },
  {
   "attachments": {},
   "cell_type": "markdown",
   "metadata": {},
   "source": [
    "### 最終的な出力クラス\n",
    "これを撃墜分リストで出力\n",
    "- ClipResult\n",
    "    - player-int\n",
    "    - name-string\n",
    "    - start-int\n",
    "    - end-int\n",
    "<hr />"
   ]
  },
  {
   "attachments": {},
   "cell_type": "markdown",
   "metadata": {},
   "source": [
    "### 動画のクリップ\n",
    "出力クラスは適当な外部ファイルに保存してから，動画の切り出しをする．<br />\n",
    "保存先 -> G:\\素材\\スマブラの動画\\自動クリップ\\yyyy\\yyyymmdd\\fileName.mp4<br />\n",
    "\n",
    "ファイル名は\n",
    "キャラ名_kill_2_元の動画ファイル名.mp4"
   ]
  },
  {
   "attachments": {},
   "cell_type": "markdown",
   "metadata": {},
   "source": []
  }
 ],
 "metadata": {
  "language_info": {
   "name": "python"
  },
  "orig_nbformat": 4
 },
 "nbformat": 4,
 "nbformat_minor": 2
}
